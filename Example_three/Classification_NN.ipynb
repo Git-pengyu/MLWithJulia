{
 "cells": [
  {
   "cell_type": "markdown",
   "metadata": {},
   "source": [
    "## Classification of Hand written digits using Neural Networks"
   ]
  },
  {
   "cell_type": "markdown",
   "metadata": {},
   "source": [
    "### Using MNIST dataset and Flux.jl\n"
   ]
  },
  {
   "cell_type": "code",
   "execution_count": 42,
   "metadata": {},
   "outputs": [],
   "source": [
    "using Flux, Flux.Data.MNIST\n",
    "using Flux: onehotbatch, argmax, crossentropy, throttle\n",
    "using Base.Iterators: repeated"
   ]
  },
  {
   "cell_type": "code",
   "execution_count": 6,
   "metadata": {},
   "outputs": [],
   "source": [
    "imgs = MNIST.images(); #Getting Images\n",
    "labels = MNIST.labels(); #Getting Labels 0-9 for all the images"
   ]
  },
  {
   "cell_type": "code",
   "execution_count": 7,
   "metadata": {},
   "outputs": [
    {
     "data": {
      "text/plain": [
       "10×60000 Flux.OneHotMatrix{Array{Flux.OneHotVector,1}}:\n",
       " false   true  false  false  false  …  false  false  false  false  false\n",
       " false  false  false   true  false     false  false  false  false  false\n",
       " false  false  false  false  false     false  false  false  false  false\n",
       " false  false  false  false  false     false   true  false  false  false\n",
       " false  false   true  false  false     false  false  false  false  false\n",
       "  true  false  false  false  false  …  false  false   true  false  false\n",
       " false  false  false  false  false     false  false  false   true  false\n",
       " false  false  false  false  false     false  false  false  false  false\n",
       " false  false  false  false  false      true  false  false  false   true\n",
       " false  false  false  false   true     false  false  false  false  false"
      ]
     },
     "execution_count": 7,
     "metadata": {},
     "output_type": "execute_result"
    }
   ],
   "source": [
    "# Converting labels to one hot matrix\n",
    "Y = onehotbatch(labels, 0:9)"
   ]
  },
  {
   "cell_type": "code",
   "execution_count": 31,
   "metadata": {},
   "outputs": [],
   "source": [
    "#Stacking images into batch (here each image is a column 28X28 pixels stacked horizontally)\n",
    "X = hcat(float.(reshape.(imgs, :))...);"
   ]
  },
  {
   "cell_type": "code",
   "execution_count": 33,
   "metadata": {},
   "outputs": [
    {
     "data": {
      "text/plain": [
       "Chain(Dense(784, 32, NNlib.relu), Dense(32, 10), NNlib.softmax)"
      ]
     },
     "execution_count": 33,
     "metadata": {},
     "output_type": "execute_result"
    }
   ],
   "source": [
    "# Creating a NN with 32X784 and 10X32 layers\n",
    "m = Chain(\n",
    "  Dense(28^2, 32, relu),\n",
    "  Dense(32, 10),\n",
    "  softmax)\n",
    "\n",
    "##Different method of chaining\n",
    "# Method 2\n",
    "\n",
    "# W1 = params(rand(32,784))\n",
    "# b1 = params(rand(32))\n",
    "# layer1(x) = W1*x .+ b1\n",
    "# W2 = params(rand(10,32))\n",
    "# b2 = params(rand(10))\n",
    "# layer2(x) = W2*x .+ b2\n",
    "# model(x) = layer2(σ.(layer1(x)))\n",
    "\n",
    "# Method 3\n",
    "# struct Affine\n",
    "#   W\n",
    "#   b\n",
    "# end\n",
    "\n",
    "# Affine(in::Integer, out::Integer) =\n",
    "#   Affine(param(randn(out, in)), param(randn(out)))\n",
    "\n",
    "# # Overload call, so the object can be used as a function\n",
    "# (m::Affine)(x) = m.W * x .+ m.b\n",
    "\n",
    "# a = Affine(10, 5)"
   ]
  },
  {
   "cell_type": "code",
   "execution_count": 34,
   "metadata": {},
   "outputs": [
    {
     "data": {
      "text/plain": [
       "loss (generic function with 1 method)"
      ]
     },
     "execution_count": 34,
     "metadata": {},
     "output_type": "execute_result"
    }
   ],
   "source": [
    "loss(x, y) = crossentropy(m(x), y) #Flux.mse(m(x), y) can also be used\n"
   ]
  },
  {
   "cell_type": "code",
   "execution_count": 35,
   "metadata": {},
   "outputs": [
    {
     "data": {
      "text/plain": [
       "accuracy (generic function with 1 method)"
      ]
     },
     "execution_count": 35,
     "metadata": {},
     "output_type": "execute_result"
    }
   ],
   "source": [
    "# Function to measure accuracy (basically reversing one hot and comparing labels)\n",
    "accuracy(x, y) = mean(argmax(m(x)) .== argmax(y))\n"
   ]
  },
  {
   "cell_type": "code",
   "execution_count": 43,
   "metadata": {},
   "outputs": [
    {
     "name": "stderr",
     "output_type": "stream",
     "text": [
      "WARNING: Base.repeated is deprecated, use Base.Iterators.repeated instead.\n",
      "  likely near In[43]:2\n"
     ]
    },
    {
     "data": {
      "text/plain": [
       "(::#71) (generic function with 1 method)"
      ]
     },
     "execution_count": 43,
     "metadata": {},
     "output_type": "execute_result"
    }
   ],
   "source": [
    "# Iterator to repeat the data 200 times\n",
    "dataset = repeated((X, Y), 200)\n",
    "\n",
    "# Anonymous function to show loss while training\n",
    "evalcb = () -> @show(loss(X, Y))\n",
    "\n",
    "# Optimizationg of NN weights using Adam optimization\n",
    "opt = ADAM(params(m))"
   ]
  },
  {
   "cell_type": "code",
   "execution_count": 44,
   "metadata": {},
   "outputs": [
    {
     "name": "stdout",
     "output_type": "stream",
     "text": [
      "loss(X, Y) = 2.297694826789072 (tracked)\n",
      "loss(X, Y) = 1.48078379598783 (tracked)\n",
      "loss(X, Y) = 0.9339084500384616 (tracked)\n",
      "loss(X, Y) = 0.6621529396381316 (tracked)\n",
      "loss(X, Y) = 0.5284040448120789 (tracked)\n",
      "loss(X, Y) = 0.4533253160668058 (tracked)\n",
      "loss(X, Y) = 0.40580081828071307 (tracked)\n",
      "loss(X, Y) = 0.37265836959684095 (tracked)\n",
      "loss(X, Y) = 0.3477831053025163 (tracked)\n",
      "loss(X, Y) = 0.32811594071214156 (tracked)\n",
      "loss(X, Y) = 0.3119292983960813 (tracked)\n",
      "loss(X, Y) = 0.2990586362468767 (tracked)\n",
      "loss(X, Y) = 0.28707128063597964 (tracked)\n",
      "loss(X, Y) = 0.27716454393026685 (tracked)\n"
     ]
    }
   ],
   "source": [
    "## Throttle is to show loss every 10 secs\n",
    "\n",
    "Flux.train!(loss, dataset, opt, cb = throttle(evalcb, 10))\n"
   ]
  },
  {
   "cell_type": "code",
   "execution_count": 45,
   "metadata": {},
   "outputs": [
    {
     "data": {
      "text/plain": [
       "0.9254833333333333"
      ]
     },
     "execution_count": 45,
     "metadata": {},
     "output_type": "execute_result"
    }
   ],
   "source": [
    "# Accuracy of predicted labels\n",
    "accuracy(X, Y)"
   ]
  },
  {
   "cell_type": "code",
   "execution_count": null,
   "metadata": {
    "collapsed": true
   },
   "outputs": [],
   "source": []
  }
 ],
 "metadata": {
  "kernelspec": {
   "display_name": "Julia 0.6.0",
   "language": "julia",
   "name": "julia-0.6"
  },
  "language_info": {
   "file_extension": ".jl",
   "mimetype": "application/julia",
   "name": "julia",
   "version": "0.6.0"
  }
 },
 "nbformat": 4,
 "nbformat_minor": 2
}
